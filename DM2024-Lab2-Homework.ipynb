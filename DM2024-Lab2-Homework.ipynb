{
 "cells": [
  {
   "cell_type": "markdown",
   "metadata": {},
   "source": [
    "### Student Information\n",
    "Name: 胡紹良\n",
    "\n",
    "Student ID: 110006202\n",
    "\n",
    "GitHub ID:\n",
    "\n",
    "Kaggle name: \n",
    "\n",
    "Kaggle private scoreboard snapshot:"
   ]
  },
  {
   "cell_type": "markdown",
   "metadata": {},
   "source": [
    "---"
   ]
  },
  {
   "cell_type": "markdown",
   "metadata": {},
   "source": [
    "### Instructions"
   ]
  },
  {
   "cell_type": "markdown",
   "metadata": {},
   "source": [
    "1. First: __This part is worth 30% of your grade.__ Do the **take home exercises** in the [DM2024-Lab2-master Repo](https://github.com/didiersalazar/DM2024-Lab2-Master). You may need to copy some cells from the Lab notebook to this notebook. \n",
    "\n",
    "\n",
    "2. Second: __This part is worth 30% of your grade.__ Participate in the in-class [Kaggle Competition](https://www.kaggle.com/competitions/dm-2024-isa-5810-lab-2-homework) regarding Emotion Recognition on Twitter by this link: https://www.kaggle.com/competitions/dm-2024-isa-5810-lab-2-homework. The scoring will be given according to your place in the Private Leaderboard ranking: \n",
    "    - **Bottom 40%**: Get 20% of the 30% available for this section.\n",
    "\n",
    "    - **Top 41% - 100%**: Get (0.6N + 1 - x) / (0.6N) * 10 + 20 points, where N is the total number of participants, and x is your rank. (ie. If there are 100 participants and you rank 3rd your score will be (0.6 * 100 + 1 - 3) / (0.6 * 100) * 10 + 20 = 29.67% out of 30%.)   \n",
    "    Submit your last submission **BEFORE the deadline (Nov. 26th, 11:59 pm, Tuesday)**. Make sure to take a screenshot of your position at the end of the competition and store it as '''pic0.png''' under the **img** folder of this repository and rerun the cell **Student Information**.\n",
    "    \n",
    "\n",
    "3. Third: __This part is worth 30% of your grade.__ A report of your work developing the model for the competition (You can use code and comment on it). This report should include what your preprocessing steps, the feature engineering steps and an explanation of your model. You can also mention different things you tried and insights you gained. \n",
    "\n",
    "\n",
    "4. Fourth: __This part is worth 10% of your grade.__ It's hard for us to follow if your code is messy :'(, so please **tidy up your notebook**.\n",
    "\n",
    "\n",
    "Upload your files to your repository then submit the link to it on the corresponding e-learn assignment.\n",
    "\n",
    "Make sure to commit and save your changes to your repository __BEFORE the deadline (Nov. 26th, 11:59 pm, Tuesday)__. "
   ]
  },
  {
   "cell_type": "markdown",
   "metadata": {},
   "source": [
    "## 1. Data Preparation"
   ]
  },
  {
   "cell_type": "code",
   "execution_count": 36,
   "metadata": {},
   "outputs": [],
   "source": [
    "import pandas as pd\n",
    "import plotly.express as px\n",
    "from sklearn.feature_extraction.text import CountVectorizer\n",
    "import numpy as np\n",
    "import matplotlib.pyplot as plt\n",
    "from sklearn.feature_extraction.text import TfidfVectorizer\n",
    "import nltk\n",
    "from sklearn.model_selection import train_test_split\n",
    "from sklearn.preprocessing import LabelEncoder\n",
    "import keras\n",
    "from keras.models import Model\n",
    "from keras.layers import Input, Dense\n",
    "from keras.layers import ReLU, Softmax\n",
    "from keras.callbacks import CSVLogger\n",
    "from sklearn.metrics import accuracy_score\n",
    "from sklearn.metrics import classification_report\n",
    "from nltk.corpus import stopwords\n",
    "from tqdm import tqdm\n",
    "import string\n",
    "import emoji\n",
    "import re"
   ]
  },
  {
   "cell_type": "markdown",
   "metadata": {},
   "source": [
    "## 1.1 Load Json data\n",
    "\n",
    "We start by loading the json file into a single pandas dataframe and normalize it."
   ]
  },
  {
   "cell_type": "code",
   "execution_count": 37,
   "metadata": {},
   "outputs": [
    {
     "data": {
      "text/html": [
       "<div>\n",
       "<style scoped>\n",
       "    .dataframe tbody tr th:only-of-type {\n",
       "        vertical-align: middle;\n",
       "    }\n",
       "\n",
       "    .dataframe tbody tr th {\n",
       "        vertical-align: top;\n",
       "    }\n",
       "\n",
       "    .dataframe thead th {\n",
       "        text-align: right;\n",
       "    }\n",
       "</style>\n",
       "<table border=\"1\" class=\"dataframe\">\n",
       "  <thead>\n",
       "    <tr style=\"text-align: right;\">\n",
       "      <th></th>\n",
       "      <th>score</th>\n",
       "      <th>crawldate</th>\n",
       "      <th>tweet_id</th>\n",
       "      <th>text</th>\n",
       "      <th>hashtags</th>\n",
       "    </tr>\n",
       "  </thead>\n",
       "  <tbody>\n",
       "    <tr>\n",
       "      <th>0</th>\n",
       "      <td>391</td>\n",
       "      <td>2015-05-23 11:42:47</td>\n",
       "      <td>0x376b20</td>\n",
       "      <td>People who post \"add me on #Snapchat\" must be ...</td>\n",
       "      <td>[Snapchat]</td>\n",
       "    </tr>\n",
       "    <tr>\n",
       "      <th>1</th>\n",
       "      <td>433</td>\n",
       "      <td>2016-01-28 04:52:09</td>\n",
       "      <td>0x2d5350</td>\n",
       "      <td>@brianklaas As we see, Trump is dangerous to #...</td>\n",
       "      <td>[freepress, TrumpLegacy, CNN]</td>\n",
       "    </tr>\n",
       "    <tr>\n",
       "      <th>2</th>\n",
       "      <td>232</td>\n",
       "      <td>2017-12-25 04:39:20</td>\n",
       "      <td>0x28b412</td>\n",
       "      <td>Confident of your obedience, I write to you, k...</td>\n",
       "      <td>[bibleverse]</td>\n",
       "    </tr>\n",
       "    <tr>\n",
       "      <th>3</th>\n",
       "      <td>376</td>\n",
       "      <td>2016-01-24 23:53:05</td>\n",
       "      <td>0x1cd5b0</td>\n",
       "      <td>Now ISSA is stalking Tasha 😂😂😂 &lt;LH&gt;</td>\n",
       "      <td>[]</td>\n",
       "    </tr>\n",
       "    <tr>\n",
       "      <th>4</th>\n",
       "      <td>989</td>\n",
       "      <td>2016-01-08 17:18:59</td>\n",
       "      <td>0x2de201</td>\n",
       "      <td>\"Trust is not the same as faith. A friend is s...</td>\n",
       "      <td>[]</td>\n",
       "    </tr>\n",
       "    <tr>\n",
       "      <th>...</th>\n",
       "      <td>...</td>\n",
       "      <td>...</td>\n",
       "      <td>...</td>\n",
       "      <td>...</td>\n",
       "      <td>...</td>\n",
       "    </tr>\n",
       "    <tr>\n",
       "      <th>1867530</th>\n",
       "      <td>827</td>\n",
       "      <td>2015-05-12 12:51:52</td>\n",
       "      <td>0x316b80</td>\n",
       "      <td>When you buy the last 2 tickets remaining for ...</td>\n",
       "      <td>[mixedfeeling, butimTHATperson]</td>\n",
       "    </tr>\n",
       "    <tr>\n",
       "      <th>1867531</th>\n",
       "      <td>368</td>\n",
       "      <td>2017-10-02 17:54:04</td>\n",
       "      <td>0x29d0cb</td>\n",
       "      <td>I swear all this hard work gone pay off one da...</td>\n",
       "      <td>[]</td>\n",
       "    </tr>\n",
       "    <tr>\n",
       "      <th>1867532</th>\n",
       "      <td>498</td>\n",
       "      <td>2016-10-10 11:04:32</td>\n",
       "      <td>0x2a6a4f</td>\n",
       "      <td>@Parcel2Go no card left when I wasn't in so I ...</td>\n",
       "      <td>[]</td>\n",
       "    </tr>\n",
       "    <tr>\n",
       "      <th>1867533</th>\n",
       "      <td>840</td>\n",
       "      <td>2016-09-02 14:25:06</td>\n",
       "      <td>0x24faed</td>\n",
       "      <td>Ah, corporate life, where you can date &lt;LH&gt; us...</td>\n",
       "      <td>[]</td>\n",
       "    </tr>\n",
       "    <tr>\n",
       "      <th>1867534</th>\n",
       "      <td>360</td>\n",
       "      <td>2016-11-16 01:40:07</td>\n",
       "      <td>0x34be8c</td>\n",
       "      <td>Blessed to be living #Sundayvibes &lt;LH&gt;</td>\n",
       "      <td>[Sundayvibes]</td>\n",
       "    </tr>\n",
       "  </tbody>\n",
       "</table>\n",
       "<p>1867535 rows × 5 columns</p>\n",
       "</div>"
      ],
      "text/plain": [
       "         score            crawldate  tweet_id  \\\n",
       "0          391  2015-05-23 11:42:47  0x376b20   \n",
       "1          433  2016-01-28 04:52:09  0x2d5350   \n",
       "2          232  2017-12-25 04:39:20  0x28b412   \n",
       "3          376  2016-01-24 23:53:05  0x1cd5b0   \n",
       "4          989  2016-01-08 17:18:59  0x2de201   \n",
       "...        ...                  ...       ...   \n",
       "1867530    827  2015-05-12 12:51:52  0x316b80   \n",
       "1867531    368  2017-10-02 17:54:04  0x29d0cb   \n",
       "1867532    498  2016-10-10 11:04:32  0x2a6a4f   \n",
       "1867533    840  2016-09-02 14:25:06  0x24faed   \n",
       "1867534    360  2016-11-16 01:40:07  0x34be8c   \n",
       "\n",
       "                                                      text  \\\n",
       "0        People who post \"add me on #Snapchat\" must be ...   \n",
       "1        @brianklaas As we see, Trump is dangerous to #...   \n",
       "2        Confident of your obedience, I write to you, k...   \n",
       "3                      Now ISSA is stalking Tasha 😂😂😂 <LH>   \n",
       "4        \"Trust is not the same as faith. A friend is s...   \n",
       "...                                                    ...   \n",
       "1867530  When you buy the last 2 tickets remaining for ...   \n",
       "1867531  I swear all this hard work gone pay off one da...   \n",
       "1867532  @Parcel2Go no card left when I wasn't in so I ...   \n",
       "1867533  Ah, corporate life, where you can date <LH> us...   \n",
       "1867534             Blessed to be living #Sundayvibes <LH>   \n",
       "\n",
       "                                hashtags  \n",
       "0                             [Snapchat]  \n",
       "1          [freepress, TrumpLegacy, CNN]  \n",
       "2                           [bibleverse]  \n",
       "3                                     []  \n",
       "4                                     []  \n",
       "...                                  ...  \n",
       "1867530  [mixedfeeling, butimTHATperson]  \n",
       "1867531                               []  \n",
       "1867532                               []  \n",
       "1867533                               []  \n",
       "1867534                    [Sundayvibes]  \n",
       "\n",
       "[1867535 rows x 5 columns]"
      ]
     },
     "execution_count": 37,
     "metadata": {},
     "output_type": "execute_result"
    }
   ],
   "source": [
    "### Begin Assignment Here\n",
    "json_file = pd.read_json(\"tweets_DM.json\", lines = True) # read the json file separated by lines\n",
    "df = pd.json_normalize(json_file['_source']) # flatten the nested _source by normalizing it\n",
    "df[['score','crawldate']] = json_file[['_score','_crawldate']] # copy score and crawldate from json file to df, we dont need index and type because every data has the same index and type\n",
    "df[['tweet_id', 'text', 'hashtags']] = df[['tweet.tweet_id', 'tweet.text', 'tweet.hashtags']] # tidy up the features by removing the tweet prefix\n",
    "df = df.drop(columns = ['tweet.hashtags', 'tweet.tweet_id', 'tweet.text'])\n",
    "df"
   ]
  },
  {
   "cell_type": "markdown",
   "metadata": {},
   "source": [
    "## 1.2 load the csv files and join data_identification with df to know where to split"
   ]
  },
  {
   "cell_type": "code",
   "execution_count": 38,
   "metadata": {},
   "outputs": [],
   "source": [
    "emotion_csv = pd.read_csv(\"emotion.csv\") # load the emotion.csv for training\n",
    "data_identification_csv = pd.read_csv(\"data_identification.csv\") # load the data identification for data splitting\n",
    "df = data_identification_csv.set_index('tweet_id').join(df.set_index('tweet_id')) #join the data_identification and df to know where to split\n"
   ]
  },
  {
   "cell_type": "code",
   "execution_count": 39,
   "metadata": {},
   "outputs": [],
   "source": [
    "df.to_csv('original_data.csv') # save csv file"
   ]
  },
  {
   "cell_type": "markdown",
   "metadata": {},
   "source": [
    "## 1.3 Clean up the data"
   ]
  },
  {
   "cell_type": "code",
   "execution_count": 40,
   "metadata": {},
   "outputs": [],
   "source": [
    "tqdm.pandas(desc=\"Cleaning text\")"
   ]
  },
  {
   "cell_type": "markdown",
   "metadata": {},
   "source": [
    "De-emojify the emojis"
   ]
  },
  {
   "cell_type": "code",
   "execution_count": 41,
   "metadata": {},
   "outputs": [
    {
     "name": "stderr",
     "output_type": "stream",
     "text": [
      "Cleaning text: 100%|██████████| 1867535/1867535 [01:34<00:00, 19747.75it/s]\n"
     ]
    }
   ],
   "source": [
    "df['text'] = df['text'].progress_apply(lambda x: emoji.demojize(x))"
   ]
  },
  {
   "cell_type": "markdown",
   "metadata": {},
   "source": [
    "Remove punctuations"
   ]
  },
  {
   "cell_type": "code",
   "execution_count": 42,
   "metadata": {},
   "outputs": [
    {
     "name": "stderr",
     "output_type": "stream",
     "text": [
      "Cleaning text: 100%|██████████| 1867535/1867535 [00:02<00:00, 846092.98it/s]\n"
     ]
    }
   ],
   "source": [
    "df['text'] = df['text'].progress_apply(lambda x: x.replace(\"'\", ' ').replace('\"',' ').replace(':', ' ').replace('.',' ').replace(',',' ').replace('“',' '))"
   ]
  },
  {
   "cell_type": "markdown",
   "metadata": {},
   "source": [
    "make all text lowercase"
   ]
  },
  {
   "cell_type": "code",
   "execution_count": 43,
   "metadata": {},
   "outputs": [],
   "source": [
    "df['text'] = df['text'].str.lower() # convert train_df into lowercase"
   ]
  },
  {
   "cell_type": "markdown",
   "metadata": {},
   "source": [
    "## 1.4 split the dataframe into training and testing dataframe"
   ]
  },
  {
   "cell_type": "code",
   "execution_count": 44,
   "metadata": {},
   "outputs": [],
   "source": [
    "#split the df based on its identifications\n",
    "train_df = df[df['identification']=='train']\n",
    "\n",
    "test_df = df[df['identification']=='test']"
   ]
  },
  {
   "cell_type": "code",
   "execution_count": 45,
   "metadata": {},
   "outputs": [
    {
     "data": {
      "text/html": [
       "<div>\n",
       "<style scoped>\n",
       "    .dataframe tbody tr th:only-of-type {\n",
       "        vertical-align: middle;\n",
       "    }\n",
       "\n",
       "    .dataframe tbody tr th {\n",
       "        vertical-align: top;\n",
       "    }\n",
       "\n",
       "    .dataframe thead th {\n",
       "        text-align: right;\n",
       "    }\n",
       "</style>\n",
       "<table border=\"1\" class=\"dataframe\">\n",
       "  <thead>\n",
       "    <tr style=\"text-align: right;\">\n",
       "      <th></th>\n",
       "      <th>identification</th>\n",
       "      <th>score</th>\n",
       "      <th>crawldate</th>\n",
       "      <th>text</th>\n",
       "      <th>hashtags</th>\n",
       "    </tr>\n",
       "    <tr>\n",
       "      <th>tweet_id</th>\n",
       "      <th></th>\n",
       "      <th></th>\n",
       "      <th></th>\n",
       "      <th></th>\n",
       "      <th></th>\n",
       "    </tr>\n",
       "  </thead>\n",
       "  <tbody>\n",
       "    <tr>\n",
       "      <th>0x29e452</th>\n",
       "      <td>train</td>\n",
       "      <td>809</td>\n",
       "      <td>2015-01-17 03:07:03</td>\n",
       "      <td>huge respect🖒 @johnnyvegasreal talking about l...</td>\n",
       "      <td>[]</td>\n",
       "    </tr>\n",
       "    <tr>\n",
       "      <th>0x2b3819</th>\n",
       "      <td>train</td>\n",
       "      <td>808</td>\n",
       "      <td>2016-07-02 09:34:06</td>\n",
       "      <td>yoooo we hit all our monthly goals with the ne...</td>\n",
       "      <td>[spateradio, app]</td>\n",
       "    </tr>\n",
       "    <tr>\n",
       "      <th>0x2a2acc</th>\n",
       "      <td>train</td>\n",
       "      <td>16</td>\n",
       "      <td>2016-08-15 18:18:39</td>\n",
       "      <td>@kidsnts @picu_bch @uhbcomms @bwchboss well do...</td>\n",
       "      <td>[]</td>\n",
       "    </tr>\n",
       "    <tr>\n",
       "      <th>0x2a8830</th>\n",
       "      <td>train</td>\n",
       "      <td>768</td>\n",
       "      <td>2017-02-11 08:49:46</td>\n",
       "      <td>come join @ambushman27 on #pubg while he striv...</td>\n",
       "      <td>[PUBG, GamersUnite, twitch, BeHealthy, StayPos...</td>\n",
       "    </tr>\n",
       "    <tr>\n",
       "      <th>0x20b21d</th>\n",
       "      <td>train</td>\n",
       "      <td>70</td>\n",
       "      <td>2016-11-23 05:37:10</td>\n",
       "      <td>@fanshixieen2014 blessings!my #strength little...</td>\n",
       "      <td>[strength, bones, God]</td>\n",
       "    </tr>\n",
       "    <tr>\n",
       "      <th>...</th>\n",
       "      <td>...</td>\n",
       "      <td>...</td>\n",
       "      <td>...</td>\n",
       "      <td>...</td>\n",
       "      <td>...</td>\n",
       "    </tr>\n",
       "    <tr>\n",
       "      <th>0x227e25</th>\n",
       "      <td>train</td>\n",
       "      <td>361</td>\n",
       "      <td>2016-09-09 14:28:19</td>\n",
       "      <td>@bbcbreaking such an inspirational talented pe...</td>\n",
       "      <td>[rip]</td>\n",
       "    </tr>\n",
       "    <tr>\n",
       "      <th>0x293813</th>\n",
       "      <td>train</td>\n",
       "      <td>15</td>\n",
       "      <td>2017-02-04 14:15:32</td>\n",
       "      <td>and still #libtards won t get off the guy s ba...</td>\n",
       "      <td>[libtards, Hillary, lost, sad, growup, Trump]</td>\n",
       "    </tr>\n",
       "    <tr>\n",
       "      <th>0x1e1a7e</th>\n",
       "      <td>train</td>\n",
       "      <td>174</td>\n",
       "      <td>2015-12-03 16:53:39</td>\n",
       "      <td>when you sow #seeds of service or hospitality ...</td>\n",
       "      <td>[seeds, Joy, GLTChurch]</td>\n",
       "    </tr>\n",
       "    <tr>\n",
       "      <th>0x2156a5</th>\n",
       "      <td>train</td>\n",
       "      <td>515</td>\n",
       "      <td>2016-10-27 03:23:51</td>\n",
       "      <td>@lorettalrose will you be displaying some &lt;lh&gt;...</td>\n",
       "      <td>[]</td>\n",
       "    </tr>\n",
       "    <tr>\n",
       "      <th>0x2bb9d2</th>\n",
       "      <td>train</td>\n",
       "      <td>850</td>\n",
       "      <td>2016-08-26 08:41:46</td>\n",
       "      <td>lord  i &lt;lh&gt; in you</td>\n",
       "      <td>[]</td>\n",
       "    </tr>\n",
       "  </tbody>\n",
       "</table>\n",
       "<p>1455563 rows × 5 columns</p>\n",
       "</div>"
      ],
      "text/plain": [
       "         identification  score            crawldate  \\\n",
       "tweet_id                                              \n",
       "0x29e452          train    809  2015-01-17 03:07:03   \n",
       "0x2b3819          train    808  2016-07-02 09:34:06   \n",
       "0x2a2acc          train     16  2016-08-15 18:18:39   \n",
       "0x2a8830          train    768  2017-02-11 08:49:46   \n",
       "0x20b21d          train     70  2016-11-23 05:37:10   \n",
       "...                 ...    ...                  ...   \n",
       "0x227e25          train    361  2016-09-09 14:28:19   \n",
       "0x293813          train     15  2017-02-04 14:15:32   \n",
       "0x1e1a7e          train    174  2015-12-03 16:53:39   \n",
       "0x2156a5          train    515  2016-10-27 03:23:51   \n",
       "0x2bb9d2          train    850  2016-08-26 08:41:46   \n",
       "\n",
       "                                                       text  \\\n",
       "tweet_id                                                      \n",
       "0x29e452  huge respect🖒 @johnnyvegasreal talking about l...   \n",
       "0x2b3819  yoooo we hit all our monthly goals with the ne...   \n",
       "0x2a2acc  @kidsnts @picu_bch @uhbcomms @bwchboss well do...   \n",
       "0x2a8830  come join @ambushman27 on #pubg while he striv...   \n",
       "0x20b21d  @fanshixieen2014 blessings!my #strength little...   \n",
       "...                                                     ...   \n",
       "0x227e25  @bbcbreaking such an inspirational talented pe...   \n",
       "0x293813  and still #libtards won t get off the guy s ba...   \n",
       "0x1e1a7e  when you sow #seeds of service or hospitality ...   \n",
       "0x2156a5  @lorettalrose will you be displaying some <lh>...   \n",
       "0x2bb9d2                               lord  i <lh> in you    \n",
       "\n",
       "                                                   hashtags  \n",
       "tweet_id                                                     \n",
       "0x29e452                                                 []  \n",
       "0x2b3819                                  [spateradio, app]  \n",
       "0x2a2acc                                                 []  \n",
       "0x2a8830  [PUBG, GamersUnite, twitch, BeHealthy, StayPos...  \n",
       "0x20b21d                             [strength, bones, God]  \n",
       "...                                                     ...  \n",
       "0x227e25                                              [rip]  \n",
       "0x293813      [libtards, Hillary, lost, sad, growup, Trump]  \n",
       "0x1e1a7e                            [seeds, Joy, GLTChurch]  \n",
       "0x2156a5                                                 []  \n",
       "0x2bb9d2                                                 []  \n",
       "\n",
       "[1455563 rows x 5 columns]"
      ]
     },
     "execution_count": 45,
     "metadata": {},
     "output_type": "execute_result"
    }
   ],
   "source": [
    "train_df"
   ]
  },
  {
   "cell_type": "code",
   "execution_count": 46,
   "metadata": {},
   "outputs": [
    {
     "data": {
      "text/html": [
       "<div>\n",
       "<style scoped>\n",
       "    .dataframe tbody tr th:only-of-type {\n",
       "        vertical-align: middle;\n",
       "    }\n",
       "\n",
       "    .dataframe tbody tr th {\n",
       "        vertical-align: top;\n",
       "    }\n",
       "\n",
       "    .dataframe thead th {\n",
       "        text-align: right;\n",
       "    }\n",
       "</style>\n",
       "<table border=\"1\" class=\"dataframe\">\n",
       "  <thead>\n",
       "    <tr style=\"text-align: right;\">\n",
       "      <th></th>\n",
       "      <th>identification</th>\n",
       "      <th>score</th>\n",
       "      <th>crawldate</th>\n",
       "      <th>text</th>\n",
       "      <th>hashtags</th>\n",
       "    </tr>\n",
       "    <tr>\n",
       "      <th>tweet_id</th>\n",
       "      <th></th>\n",
       "      <th></th>\n",
       "      <th></th>\n",
       "      <th></th>\n",
       "      <th></th>\n",
       "    </tr>\n",
       "  </thead>\n",
       "  <tbody>\n",
       "    <tr>\n",
       "      <th>0x28cc61</th>\n",
       "      <td>test</td>\n",
       "      <td>107</td>\n",
       "      <td>2017-01-17 14:13:32</td>\n",
       "      <td>@habbo i ve seen two separate colours of the e...</td>\n",
       "      <td>[]</td>\n",
       "    </tr>\n",
       "    <tr>\n",
       "      <th>0x2db41f</th>\n",
       "      <td>test</td>\n",
       "      <td>728</td>\n",
       "      <td>2015-10-17 06:46:20</td>\n",
       "      <td>@foxnews @kellyannepolls no serious self respe...</td>\n",
       "      <td>[]</td>\n",
       "    </tr>\n",
       "    <tr>\n",
       "      <th>0x2466f6</th>\n",
       "      <td>test</td>\n",
       "      <td>491</td>\n",
       "      <td>2016-12-19 03:50:27</td>\n",
       "      <td>looking for a new car  and it says 1 lady owne...</td>\n",
       "      <td>[womendrivers]</td>\n",
       "    </tr>\n",
       "    <tr>\n",
       "      <th>0x23f9e9</th>\n",
       "      <td>test</td>\n",
       "      <td>28</td>\n",
       "      <td>2017-04-09 19:32:19</td>\n",
       "      <td>@cineworld  only the brave” just out and fount...</td>\n",
       "      <td>[robbingmembers]</td>\n",
       "    </tr>\n",
       "    <tr>\n",
       "      <th>0x1fb4e1</th>\n",
       "      <td>test</td>\n",
       "      <td>925</td>\n",
       "      <td>2016-01-15 11:59:31</td>\n",
       "      <td>felt like total dog  pile_of_poo  going into o...</td>\n",
       "      <td>[]</td>\n",
       "    </tr>\n",
       "    <tr>\n",
       "      <th>...</th>\n",
       "      <td>...</td>\n",
       "      <td>...</td>\n",
       "      <td>...</td>\n",
       "      <td>...</td>\n",
       "      <td>...</td>\n",
       "    </tr>\n",
       "    <tr>\n",
       "      <th>0x2c4dc2</th>\n",
       "      <td>test</td>\n",
       "      <td>792</td>\n",
       "      <td>2017-04-01 02:52:58</td>\n",
       "      <td>6 year old walks in astounded  mum! look how b...</td>\n",
       "      <td>[kids]</td>\n",
       "    </tr>\n",
       "    <tr>\n",
       "      <th>0x31be7c</th>\n",
       "      <td>test</td>\n",
       "      <td>34</td>\n",
       "      <td>2016-11-13 07:34:17</td>\n",
       "      <td>only one week to go until the #inspiringvolunt...</td>\n",
       "      <td>[inspiringvolunteerawards2017]</td>\n",
       "    </tr>\n",
       "    <tr>\n",
       "      <th>0x1ca58e</th>\n",
       "      <td>test</td>\n",
       "      <td>976</td>\n",
       "      <td>2017-10-26 19:12:59</td>\n",
       "      <td>i just got caught up with the manga for  my he...</td>\n",
       "      <td>[]</td>\n",
       "    </tr>\n",
       "    <tr>\n",
       "      <th>0x35c8ba</th>\n",
       "      <td>test</td>\n",
       "      <td>534</td>\n",
       "      <td>2017-08-18 10:23:59</td>\n",
       "      <td>speak only when spoken to and make hot ass mus...</td>\n",
       "      <td>[]</td>\n",
       "    </tr>\n",
       "    <tr>\n",
       "      <th>0x1d941b</th>\n",
       "      <td>test</td>\n",
       "      <td>798</td>\n",
       "      <td>2015-10-02 13:40:35</td>\n",
       "      <td>know what you want and go for it  fuck everyon...</td>\n",
       "      <td>[]</td>\n",
       "    </tr>\n",
       "  </tbody>\n",
       "</table>\n",
       "<p>411972 rows × 5 columns</p>\n",
       "</div>"
      ],
      "text/plain": [
       "         identification  score            crawldate  \\\n",
       "tweet_id                                              \n",
       "0x28cc61           test    107  2017-01-17 14:13:32   \n",
       "0x2db41f           test    728  2015-10-17 06:46:20   \n",
       "0x2466f6           test    491  2016-12-19 03:50:27   \n",
       "0x23f9e9           test     28  2017-04-09 19:32:19   \n",
       "0x1fb4e1           test    925  2016-01-15 11:59:31   \n",
       "...                 ...    ...                  ...   \n",
       "0x2c4dc2           test    792  2017-04-01 02:52:58   \n",
       "0x31be7c           test     34  2016-11-13 07:34:17   \n",
       "0x1ca58e           test    976  2017-10-26 19:12:59   \n",
       "0x35c8ba           test    534  2017-08-18 10:23:59   \n",
       "0x1d941b           test    798  2015-10-02 13:40:35   \n",
       "\n",
       "                                                       text  \\\n",
       "tweet_id                                                      \n",
       "0x28cc61  @habbo i ve seen two separate colours of the e...   \n",
       "0x2db41f  @foxnews @kellyannepolls no serious self respe...   \n",
       "0x2466f6  looking for a new car  and it says 1 lady owne...   \n",
       "0x23f9e9  @cineworld  only the brave” just out and fount...   \n",
       "0x1fb4e1  felt like total dog  pile_of_poo  going into o...   \n",
       "...                                                     ...   \n",
       "0x2c4dc2  6 year old walks in astounded  mum! look how b...   \n",
       "0x31be7c  only one week to go until the #inspiringvolunt...   \n",
       "0x1ca58e  i just got caught up with the manga for  my he...   \n",
       "0x35c8ba  speak only when spoken to and make hot ass mus...   \n",
       "0x1d941b  know what you want and go for it  fuck everyon...   \n",
       "\n",
       "                                hashtags  \n",
       "tweet_id                                  \n",
       "0x28cc61                              []  \n",
       "0x2db41f                              []  \n",
       "0x2466f6                  [womendrivers]  \n",
       "0x23f9e9                [robbingmembers]  \n",
       "0x1fb4e1                              []  \n",
       "...                                  ...  \n",
       "0x2c4dc2                          [kids]  \n",
       "0x31be7c  [inspiringvolunteerawards2017]  \n",
       "0x1ca58e                              []  \n",
       "0x35c8ba                              []  \n",
       "0x1d941b                              []  \n",
       "\n",
       "[411972 rows x 5 columns]"
      ]
     },
     "execution_count": 46,
     "metadata": {},
     "output_type": "execute_result"
    }
   ],
   "source": [
    "test_df"
   ]
  },
  {
   "cell_type": "code",
   "execution_count": 47,
   "metadata": {},
   "outputs": [],
   "source": [
    "# remove the identification feature from both testing and training to clean up the data\n",
    "train_df = train_df.drop(columns = ['identification'])\n",
    "test_df = test_df.drop(columns = ['identification'])"
   ]
  },
  {
   "cell_type": "code",
   "execution_count": 48,
   "metadata": {},
   "outputs": [
    {
     "data": {
      "text/html": [
       "<div>\n",
       "<style scoped>\n",
       "    .dataframe tbody tr th:only-of-type {\n",
       "        vertical-align: middle;\n",
       "    }\n",
       "\n",
       "    .dataframe tbody tr th {\n",
       "        vertical-align: top;\n",
       "    }\n",
       "\n",
       "    .dataframe thead th {\n",
       "        text-align: right;\n",
       "    }\n",
       "</style>\n",
       "<table border=\"1\" class=\"dataframe\">\n",
       "  <thead>\n",
       "    <tr style=\"text-align: right;\">\n",
       "      <th></th>\n",
       "      <th>score</th>\n",
       "      <th>crawldate</th>\n",
       "      <th>text</th>\n",
       "      <th>hashtags</th>\n",
       "    </tr>\n",
       "    <tr>\n",
       "      <th>tweet_id</th>\n",
       "      <th></th>\n",
       "      <th></th>\n",
       "      <th></th>\n",
       "      <th></th>\n",
       "    </tr>\n",
       "  </thead>\n",
       "  <tbody>\n",
       "    <tr>\n",
       "      <th>0x29e452</th>\n",
       "      <td>809</td>\n",
       "      <td>2015-01-17 03:07:03</td>\n",
       "      <td>huge respect🖒 @johnnyvegasreal talking about l...</td>\n",
       "      <td>[]</td>\n",
       "    </tr>\n",
       "    <tr>\n",
       "      <th>0x2b3819</th>\n",
       "      <td>808</td>\n",
       "      <td>2016-07-02 09:34:06</td>\n",
       "      <td>yoooo we hit all our monthly goals with the ne...</td>\n",
       "      <td>[spateradio, app]</td>\n",
       "    </tr>\n",
       "    <tr>\n",
       "      <th>0x2a2acc</th>\n",
       "      <td>16</td>\n",
       "      <td>2016-08-15 18:18:39</td>\n",
       "      <td>@kidsnts @picu_bch @uhbcomms @bwchboss well do...</td>\n",
       "      <td>[]</td>\n",
       "    </tr>\n",
       "    <tr>\n",
       "      <th>0x2a8830</th>\n",
       "      <td>768</td>\n",
       "      <td>2017-02-11 08:49:46</td>\n",
       "      <td>come join @ambushman27 on #pubg while he striv...</td>\n",
       "      <td>[PUBG, GamersUnite, twitch, BeHealthy, StayPos...</td>\n",
       "    </tr>\n",
       "    <tr>\n",
       "      <th>0x20b21d</th>\n",
       "      <td>70</td>\n",
       "      <td>2016-11-23 05:37:10</td>\n",
       "      <td>@fanshixieen2014 blessings!my #strength little...</td>\n",
       "      <td>[strength, bones, God]</td>\n",
       "    </tr>\n",
       "    <tr>\n",
       "      <th>...</th>\n",
       "      <td>...</td>\n",
       "      <td>...</td>\n",
       "      <td>...</td>\n",
       "      <td>...</td>\n",
       "    </tr>\n",
       "    <tr>\n",
       "      <th>0x227e25</th>\n",
       "      <td>361</td>\n",
       "      <td>2016-09-09 14:28:19</td>\n",
       "      <td>@bbcbreaking such an inspirational talented pe...</td>\n",
       "      <td>[rip]</td>\n",
       "    </tr>\n",
       "    <tr>\n",
       "      <th>0x293813</th>\n",
       "      <td>15</td>\n",
       "      <td>2017-02-04 14:15:32</td>\n",
       "      <td>and still #libtards won t get off the guy s ba...</td>\n",
       "      <td>[libtards, Hillary, lost, sad, growup, Trump]</td>\n",
       "    </tr>\n",
       "    <tr>\n",
       "      <th>0x1e1a7e</th>\n",
       "      <td>174</td>\n",
       "      <td>2015-12-03 16:53:39</td>\n",
       "      <td>when you sow #seeds of service or hospitality ...</td>\n",
       "      <td>[seeds, Joy, GLTChurch]</td>\n",
       "    </tr>\n",
       "    <tr>\n",
       "      <th>0x2156a5</th>\n",
       "      <td>515</td>\n",
       "      <td>2016-10-27 03:23:51</td>\n",
       "      <td>@lorettalrose will you be displaying some &lt;lh&gt;...</td>\n",
       "      <td>[]</td>\n",
       "    </tr>\n",
       "    <tr>\n",
       "      <th>0x2bb9d2</th>\n",
       "      <td>850</td>\n",
       "      <td>2016-08-26 08:41:46</td>\n",
       "      <td>lord  i &lt;lh&gt; in you</td>\n",
       "      <td>[]</td>\n",
       "    </tr>\n",
       "  </tbody>\n",
       "</table>\n",
       "<p>1455563 rows × 4 columns</p>\n",
       "</div>"
      ],
      "text/plain": [
       "          score            crawldate  \\\n",
       "tweet_id                               \n",
       "0x29e452    809  2015-01-17 03:07:03   \n",
       "0x2b3819    808  2016-07-02 09:34:06   \n",
       "0x2a2acc     16  2016-08-15 18:18:39   \n",
       "0x2a8830    768  2017-02-11 08:49:46   \n",
       "0x20b21d     70  2016-11-23 05:37:10   \n",
       "...         ...                  ...   \n",
       "0x227e25    361  2016-09-09 14:28:19   \n",
       "0x293813     15  2017-02-04 14:15:32   \n",
       "0x1e1a7e    174  2015-12-03 16:53:39   \n",
       "0x2156a5    515  2016-10-27 03:23:51   \n",
       "0x2bb9d2    850  2016-08-26 08:41:46   \n",
       "\n",
       "                                                       text  \\\n",
       "tweet_id                                                      \n",
       "0x29e452  huge respect🖒 @johnnyvegasreal talking about l...   \n",
       "0x2b3819  yoooo we hit all our monthly goals with the ne...   \n",
       "0x2a2acc  @kidsnts @picu_bch @uhbcomms @bwchboss well do...   \n",
       "0x2a8830  come join @ambushman27 on #pubg while he striv...   \n",
       "0x20b21d  @fanshixieen2014 blessings!my #strength little...   \n",
       "...                                                     ...   \n",
       "0x227e25  @bbcbreaking such an inspirational talented pe...   \n",
       "0x293813  and still #libtards won t get off the guy s ba...   \n",
       "0x1e1a7e  when you sow #seeds of service or hospitality ...   \n",
       "0x2156a5  @lorettalrose will you be displaying some <lh>...   \n",
       "0x2bb9d2                               lord  i <lh> in you    \n",
       "\n",
       "                                                   hashtags  \n",
       "tweet_id                                                     \n",
       "0x29e452                                                 []  \n",
       "0x2b3819                                  [spateradio, app]  \n",
       "0x2a2acc                                                 []  \n",
       "0x2a8830  [PUBG, GamersUnite, twitch, BeHealthy, StayPos...  \n",
       "0x20b21d                             [strength, bones, God]  \n",
       "...                                                     ...  \n",
       "0x227e25                                              [rip]  \n",
       "0x293813      [libtards, Hillary, lost, sad, growup, Trump]  \n",
       "0x1e1a7e                            [seeds, Joy, GLTChurch]  \n",
       "0x2156a5                                                 []  \n",
       "0x2bb9d2                                                 []  \n",
       "\n",
       "[1455563 rows x 4 columns]"
      ]
     },
     "execution_count": 48,
     "metadata": {},
     "output_type": "execute_result"
    }
   ],
   "source": [
    "train_df"
   ]
  },
  {
   "cell_type": "code",
   "execution_count": 49,
   "metadata": {},
   "outputs": [
    {
     "data": {
      "text/html": [
       "<div>\n",
       "<style scoped>\n",
       "    .dataframe tbody tr th:only-of-type {\n",
       "        vertical-align: middle;\n",
       "    }\n",
       "\n",
       "    .dataframe tbody tr th {\n",
       "        vertical-align: top;\n",
       "    }\n",
       "\n",
       "    .dataframe thead th {\n",
       "        text-align: right;\n",
       "    }\n",
       "</style>\n",
       "<table border=\"1\" class=\"dataframe\">\n",
       "  <thead>\n",
       "    <tr style=\"text-align: right;\">\n",
       "      <th></th>\n",
       "      <th>score</th>\n",
       "      <th>crawldate</th>\n",
       "      <th>text</th>\n",
       "      <th>hashtags</th>\n",
       "    </tr>\n",
       "    <tr>\n",
       "      <th>tweet_id</th>\n",
       "      <th></th>\n",
       "      <th></th>\n",
       "      <th></th>\n",
       "      <th></th>\n",
       "    </tr>\n",
       "  </thead>\n",
       "  <tbody>\n",
       "    <tr>\n",
       "      <th>0x28cc61</th>\n",
       "      <td>107</td>\n",
       "      <td>2017-01-17 14:13:32</td>\n",
       "      <td>@habbo i ve seen two separate colours of the e...</td>\n",
       "      <td>[]</td>\n",
       "    </tr>\n",
       "    <tr>\n",
       "      <th>0x2db41f</th>\n",
       "      <td>728</td>\n",
       "      <td>2015-10-17 06:46:20</td>\n",
       "      <td>@foxnews @kellyannepolls no serious self respe...</td>\n",
       "      <td>[]</td>\n",
       "    </tr>\n",
       "    <tr>\n",
       "      <th>0x2466f6</th>\n",
       "      <td>491</td>\n",
       "      <td>2016-12-19 03:50:27</td>\n",
       "      <td>looking for a new car  and it says 1 lady owne...</td>\n",
       "      <td>[womendrivers]</td>\n",
       "    </tr>\n",
       "    <tr>\n",
       "      <th>0x23f9e9</th>\n",
       "      <td>28</td>\n",
       "      <td>2017-04-09 19:32:19</td>\n",
       "      <td>@cineworld  only the brave” just out and fount...</td>\n",
       "      <td>[robbingmembers]</td>\n",
       "    </tr>\n",
       "    <tr>\n",
       "      <th>0x1fb4e1</th>\n",
       "      <td>925</td>\n",
       "      <td>2016-01-15 11:59:31</td>\n",
       "      <td>felt like total dog  pile_of_poo  going into o...</td>\n",
       "      <td>[]</td>\n",
       "    </tr>\n",
       "    <tr>\n",
       "      <th>...</th>\n",
       "      <td>...</td>\n",
       "      <td>...</td>\n",
       "      <td>...</td>\n",
       "      <td>...</td>\n",
       "    </tr>\n",
       "    <tr>\n",
       "      <th>0x2c4dc2</th>\n",
       "      <td>792</td>\n",
       "      <td>2017-04-01 02:52:58</td>\n",
       "      <td>6 year old walks in astounded  mum! look how b...</td>\n",
       "      <td>[kids]</td>\n",
       "    </tr>\n",
       "    <tr>\n",
       "      <th>0x31be7c</th>\n",
       "      <td>34</td>\n",
       "      <td>2016-11-13 07:34:17</td>\n",
       "      <td>only one week to go until the #inspiringvolunt...</td>\n",
       "      <td>[inspiringvolunteerawards2017]</td>\n",
       "    </tr>\n",
       "    <tr>\n",
       "      <th>0x1ca58e</th>\n",
       "      <td>976</td>\n",
       "      <td>2017-10-26 19:12:59</td>\n",
       "      <td>i just got caught up with the manga for  my he...</td>\n",
       "      <td>[]</td>\n",
       "    </tr>\n",
       "    <tr>\n",
       "      <th>0x35c8ba</th>\n",
       "      <td>534</td>\n",
       "      <td>2017-08-18 10:23:59</td>\n",
       "      <td>speak only when spoken to and make hot ass mus...</td>\n",
       "      <td>[]</td>\n",
       "    </tr>\n",
       "    <tr>\n",
       "      <th>0x1d941b</th>\n",
       "      <td>798</td>\n",
       "      <td>2015-10-02 13:40:35</td>\n",
       "      <td>know what you want and go for it  fuck everyon...</td>\n",
       "      <td>[]</td>\n",
       "    </tr>\n",
       "  </tbody>\n",
       "</table>\n",
       "<p>411972 rows × 4 columns</p>\n",
       "</div>"
      ],
      "text/plain": [
       "          score            crawldate  \\\n",
       "tweet_id                               \n",
       "0x28cc61    107  2017-01-17 14:13:32   \n",
       "0x2db41f    728  2015-10-17 06:46:20   \n",
       "0x2466f6    491  2016-12-19 03:50:27   \n",
       "0x23f9e9     28  2017-04-09 19:32:19   \n",
       "0x1fb4e1    925  2016-01-15 11:59:31   \n",
       "...         ...                  ...   \n",
       "0x2c4dc2    792  2017-04-01 02:52:58   \n",
       "0x31be7c     34  2016-11-13 07:34:17   \n",
       "0x1ca58e    976  2017-10-26 19:12:59   \n",
       "0x35c8ba    534  2017-08-18 10:23:59   \n",
       "0x1d941b    798  2015-10-02 13:40:35   \n",
       "\n",
       "                                                       text  \\\n",
       "tweet_id                                                      \n",
       "0x28cc61  @habbo i ve seen two separate colours of the e...   \n",
       "0x2db41f  @foxnews @kellyannepolls no serious self respe...   \n",
       "0x2466f6  looking for a new car  and it says 1 lady owne...   \n",
       "0x23f9e9  @cineworld  only the brave” just out and fount...   \n",
       "0x1fb4e1  felt like total dog  pile_of_poo  going into o...   \n",
       "...                                                     ...   \n",
       "0x2c4dc2  6 year old walks in astounded  mum! look how b...   \n",
       "0x31be7c  only one week to go until the #inspiringvolunt...   \n",
       "0x1ca58e  i just got caught up with the manga for  my he...   \n",
       "0x35c8ba  speak only when spoken to and make hot ass mus...   \n",
       "0x1d941b  know what you want and go for it  fuck everyon...   \n",
       "\n",
       "                                hashtags  \n",
       "tweet_id                                  \n",
       "0x28cc61                              []  \n",
       "0x2db41f                              []  \n",
       "0x2466f6                  [womendrivers]  \n",
       "0x23f9e9                [robbingmembers]  \n",
       "0x1fb4e1                              []  \n",
       "...                                  ...  \n",
       "0x2c4dc2                          [kids]  \n",
       "0x31be7c  [inspiringvolunteerawards2017]  \n",
       "0x1ca58e                              []  \n",
       "0x35c8ba                              []  \n",
       "0x1d941b                              []  \n",
       "\n",
       "[411972 rows x 4 columns]"
      ]
     },
     "execution_count": 49,
     "metadata": {},
     "output_type": "execute_result"
    }
   ],
   "source": [
    "test_df"
   ]
  },
  {
   "cell_type": "markdown",
   "metadata": {},
   "source": [
    "Giving emotion feature to train dataset"
   ]
  },
  {
   "cell_type": "code",
   "execution_count": 50,
   "metadata": {},
   "outputs": [
    {
     "data": {
      "text/html": [
       "<div>\n",
       "<style scoped>\n",
       "    .dataframe tbody tr th:only-of-type {\n",
       "        vertical-align: middle;\n",
       "    }\n",
       "\n",
       "    .dataframe tbody tr th {\n",
       "        vertical-align: top;\n",
       "    }\n",
       "\n",
       "    .dataframe thead th {\n",
       "        text-align: right;\n",
       "    }\n",
       "</style>\n",
       "<table border=\"1\" class=\"dataframe\">\n",
       "  <thead>\n",
       "    <tr style=\"text-align: right;\">\n",
       "      <th></th>\n",
       "      <th>score</th>\n",
       "      <th>crawldate</th>\n",
       "      <th>text</th>\n",
       "      <th>hashtags</th>\n",
       "      <th>emotion</th>\n",
       "    </tr>\n",
       "    <tr>\n",
       "      <th>tweet_id</th>\n",
       "      <th></th>\n",
       "      <th></th>\n",
       "      <th></th>\n",
       "      <th></th>\n",
       "      <th></th>\n",
       "    </tr>\n",
       "  </thead>\n",
       "  <tbody>\n",
       "    <tr>\n",
       "      <th>0x29e452</th>\n",
       "      <td>809</td>\n",
       "      <td>2015-01-17 03:07:03</td>\n",
       "      <td>huge respect🖒 @johnnyvegasreal talking about l...</td>\n",
       "      <td>[]</td>\n",
       "      <td>joy</td>\n",
       "    </tr>\n",
       "    <tr>\n",
       "      <th>0x2b3819</th>\n",
       "      <td>808</td>\n",
       "      <td>2016-07-02 09:34:06</td>\n",
       "      <td>yoooo we hit all our monthly goals with the ne...</td>\n",
       "      <td>[spateradio, app]</td>\n",
       "      <td>joy</td>\n",
       "    </tr>\n",
       "    <tr>\n",
       "      <th>0x2a2acc</th>\n",
       "      <td>16</td>\n",
       "      <td>2016-08-15 18:18:39</td>\n",
       "      <td>@kidsnts @picu_bch @uhbcomms @bwchboss well do...</td>\n",
       "      <td>[]</td>\n",
       "      <td>trust</td>\n",
       "    </tr>\n",
       "    <tr>\n",
       "      <th>0x2a8830</th>\n",
       "      <td>768</td>\n",
       "      <td>2017-02-11 08:49:46</td>\n",
       "      <td>come join @ambushman27 on #pubg while he striv...</td>\n",
       "      <td>[PUBG, GamersUnite, twitch, BeHealthy, StayPos...</td>\n",
       "      <td>joy</td>\n",
       "    </tr>\n",
       "    <tr>\n",
       "      <th>0x20b21d</th>\n",
       "      <td>70</td>\n",
       "      <td>2016-11-23 05:37:10</td>\n",
       "      <td>@fanshixieen2014 blessings!my #strength little...</td>\n",
       "      <td>[strength, bones, God]</td>\n",
       "      <td>anticipation</td>\n",
       "    </tr>\n",
       "    <tr>\n",
       "      <th>...</th>\n",
       "      <td>...</td>\n",
       "      <td>...</td>\n",
       "      <td>...</td>\n",
       "      <td>...</td>\n",
       "      <td>...</td>\n",
       "    </tr>\n",
       "    <tr>\n",
       "      <th>0x227e25</th>\n",
       "      <td>361</td>\n",
       "      <td>2016-09-09 14:28:19</td>\n",
       "      <td>@bbcbreaking such an inspirational talented pe...</td>\n",
       "      <td>[rip]</td>\n",
       "      <td>disgust</td>\n",
       "    </tr>\n",
       "    <tr>\n",
       "      <th>0x293813</th>\n",
       "      <td>15</td>\n",
       "      <td>2017-02-04 14:15:32</td>\n",
       "      <td>and still #libtards won t get off the guy s ba...</td>\n",
       "      <td>[libtards, Hillary, lost, sad, growup, Trump]</td>\n",
       "      <td>sadness</td>\n",
       "    </tr>\n",
       "    <tr>\n",
       "      <th>0x1e1a7e</th>\n",
       "      <td>174</td>\n",
       "      <td>2015-12-03 16:53:39</td>\n",
       "      <td>when you sow #seeds of service or hospitality ...</td>\n",
       "      <td>[seeds, Joy, GLTChurch]</td>\n",
       "      <td>joy</td>\n",
       "    </tr>\n",
       "    <tr>\n",
       "      <th>0x2156a5</th>\n",
       "      <td>515</td>\n",
       "      <td>2016-10-27 03:23:51</td>\n",
       "      <td>@lorettalrose will you be displaying some &lt;lh&gt;...</td>\n",
       "      <td>[]</td>\n",
       "      <td>trust</td>\n",
       "    </tr>\n",
       "    <tr>\n",
       "      <th>0x2bb9d2</th>\n",
       "      <td>850</td>\n",
       "      <td>2016-08-26 08:41:46</td>\n",
       "      <td>lord  i &lt;lh&gt; in you</td>\n",
       "      <td>[]</td>\n",
       "      <td>trust</td>\n",
       "    </tr>\n",
       "  </tbody>\n",
       "</table>\n",
       "<p>1455563 rows × 5 columns</p>\n",
       "</div>"
      ],
      "text/plain": [
       "          score            crawldate  \\\n",
       "tweet_id                               \n",
       "0x29e452    809  2015-01-17 03:07:03   \n",
       "0x2b3819    808  2016-07-02 09:34:06   \n",
       "0x2a2acc     16  2016-08-15 18:18:39   \n",
       "0x2a8830    768  2017-02-11 08:49:46   \n",
       "0x20b21d     70  2016-11-23 05:37:10   \n",
       "...         ...                  ...   \n",
       "0x227e25    361  2016-09-09 14:28:19   \n",
       "0x293813     15  2017-02-04 14:15:32   \n",
       "0x1e1a7e    174  2015-12-03 16:53:39   \n",
       "0x2156a5    515  2016-10-27 03:23:51   \n",
       "0x2bb9d2    850  2016-08-26 08:41:46   \n",
       "\n",
       "                                                       text  \\\n",
       "tweet_id                                                      \n",
       "0x29e452  huge respect🖒 @johnnyvegasreal talking about l...   \n",
       "0x2b3819  yoooo we hit all our monthly goals with the ne...   \n",
       "0x2a2acc  @kidsnts @picu_bch @uhbcomms @bwchboss well do...   \n",
       "0x2a8830  come join @ambushman27 on #pubg while he striv...   \n",
       "0x20b21d  @fanshixieen2014 blessings!my #strength little...   \n",
       "...                                                     ...   \n",
       "0x227e25  @bbcbreaking such an inspirational talented pe...   \n",
       "0x293813  and still #libtards won t get off the guy s ba...   \n",
       "0x1e1a7e  when you sow #seeds of service or hospitality ...   \n",
       "0x2156a5  @lorettalrose will you be displaying some <lh>...   \n",
       "0x2bb9d2                               lord  i <lh> in you    \n",
       "\n",
       "                                                   hashtags       emotion  \n",
       "tweet_id                                                                   \n",
       "0x29e452                                                 []           joy  \n",
       "0x2b3819                                  [spateradio, app]           joy  \n",
       "0x2a2acc                                                 []         trust  \n",
       "0x2a8830  [PUBG, GamersUnite, twitch, BeHealthy, StayPos...           joy  \n",
       "0x20b21d                             [strength, bones, God]  anticipation  \n",
       "...                                                     ...           ...  \n",
       "0x227e25                                              [rip]       disgust  \n",
       "0x293813      [libtards, Hillary, lost, sad, growup, Trump]       sadness  \n",
       "0x1e1a7e                            [seeds, Joy, GLTChurch]           joy  \n",
       "0x2156a5                                                 []         trust  \n",
       "0x2bb9d2                                                 []         trust  \n",
       "\n",
       "[1455563 rows x 5 columns]"
      ]
     },
     "execution_count": 50,
     "metadata": {},
     "output_type": "execute_result"
    }
   ],
   "source": [
    "train_df = train_df.join(emotion_csv.set_index('tweet_id'))\n",
    "train_df"
   ]
  },
  {
   "cell_type": "markdown",
   "metadata": {},
   "source": [
    "## 2. Feature Engineering"
   ]
  },
  {
   "cell_type": "markdown",
   "metadata": {},
   "source": [
    "## 2.1 check the data to gain insights"
   ]
  },
  {
   "cell_type": "code",
   "execution_count": 51,
   "metadata": {},
   "outputs": [
    {
     "data": {
      "text/plain": [
       "emotion\n",
       "anger            39867\n",
       "anticipation    248935\n",
       "disgust         139101\n",
       "fear             63999\n",
       "joy             516017\n",
       "sadness         193437\n",
       "surprise         48729\n",
       "trust           205478\n",
       "Name: text, dtype: int64"
      ]
     },
     "execution_count": 51,
     "metadata": {},
     "output_type": "execute_result"
    }
   ],
   "source": [
    "train_df.groupby(['emotion']).count()['text']"
   ]
  },
  {
   "cell_type": "code",
   "execution_count": 52,
   "metadata": {},
   "outputs": [
    {
     "data": {
      "image/png": "[encoded data removed]",
      "text/plain": [
       "<Figure size 900x300 with 1 Axes>"
      ]
     },
     "metadata": {},
     "output_type": "display_data"
    }
   ],
   "source": [
    "%matplotlib inline\n",
    "\n",
    "\n",
    "# the histogram of the data\n",
    "labels = train_df['emotion'].unique()\n",
    "post_total = len(train_df)\n",
    "df1 = train_df.groupby(['emotion']).count()['text']\n",
    "df1 = df1.apply(lambda x: round(x*100/post_total,3))\n",
    "\n",
    "#plot\n",
    "fig, ax = plt.subplots(figsize=(9,3))\n",
    "plt.bar(df1.index,df1.values)\n",
    "\n",
    "#arrange\n",
    "plt.ylabel('% of instances')\n",
    "plt.xlabel('Emotion')\n",
    "plt.title('Emotion distribution')\n",
    "plt.grid(True)\n",
    "plt.show()"
   ]
  },
  {
   "cell_type": "markdown",
   "metadata": {},
   "source": [
    "## 2.2 tf-IDF vectorizer for training and testing data"
   ]
  },
  {
   "cell_type": "code",
   "execution_count": 54,
   "metadata": {},
   "outputs": [
    {
     "name": "stderr",
     "output_type": "stream",
     "text": [
      "c:\\Users\\Humam\\AppData\\Local\\Programs\\Python\\Python39\\lib\\site-packages\\sklearn\\feature_extraction\\text.py:521: UserWarning: The parameter 'token_pattern' will not be used since 'tokenizer' is not None'\n",
      "  warnings.warn(\n"
     ]
    }
   ],
   "source": [
    "TFIDF = TfidfVectorizer(max_features = 30000, tokenizer=nltk.word_tokenize, ngram_range=(1,2), min_df = 15, max_df = 0.95) # use 10000 features & 1-2 Ngrams\n",
    "\n",
    "# Apply analyzer to all the datas\n",
    "TFIDF.fit(train_df['text'])\n",
    "\n",
    "# Transform documents to document-term matrix.\n",
    "train_data_TFIDF = TFIDF.transform(train_df['text']) #for train_df\n",
    "\n",
    "test_data_TFIDF = TFIDF.transform(test_df['text']) #for test_df"
   ]
  },
  {
   "cell_type": "code",
   "execution_count": 55,
   "metadata": {},
   "outputs": [],
   "source": [
    "train_val = train_df['emotion']"
   ]
  },
  {
   "cell_type": "code",
   "execution_count": 56,
   "metadata": {},
   "outputs": [
    {
     "data": {
      "text/plain": [
       "(1455563, 30000)"
      ]
     },
     "execution_count": 56,
     "metadata": {},
     "output_type": "execute_result"
    }
   ],
   "source": [
    "train_data_TFIDF.shape"
   ]
  },
  {
   "cell_type": "code",
   "execution_count": 57,
   "metadata": {},
   "outputs": [
    {
     "data": {
      "text/plain": [
       "(1455563, 30000)"
      ]
     },
     "execution_count": 57,
     "metadata": {},
     "output_type": "execute_result"
    }
   ],
   "source": [
    "train_data_TFIDF.shape"
   ]
  },
  {
   "cell_type": "markdown",
   "metadata": {},
   "source": [
    "Using one-hot encoding to transfrom train_val into numerical data"
   ]
  },
  {
   "cell_type": "code",
   "execution_count": 58,
   "metadata": {},
   "outputs": [
    {
     "name": "stdout",
     "output_type": "stream",
     "text": [
      "check label:  ['anger' 'anticipation' 'disgust' 'fear' 'joy' 'sadness' 'surprise'\n",
      " 'trust']\n",
      "\n",
      "## Before convert\n",
      "y_train[0:4]:\n",
      " tweet_id\n",
      "0x29e452      joy\n",
      "0x2b3819      joy\n",
      "0x2a2acc    trust\n",
      "0x2a8830      joy\n",
      "Name: emotion, dtype: object\n",
      "\n",
      "y_train.shape:  (1455563,)\n",
      "y_test.shape:  (1455563,)\n",
      "\n",
      "\n",
      "## After convert\n",
      "y_train[0:4]:\n",
      " [[0. 0. 0. 0. 1. 0. 0. 0.]\n",
      " [0. 0. 0. 0. 1. 0. 0. 0.]\n",
      " [0. 0. 0. 0. 0. 0. 0. 1.]\n",
      " [0. 0. 0. 0. 1. 0. 0. 0.]]\n",
      "\n",
      "y_train.shape:  (1455563, 8)\n",
      "y_test.shape:  (1455563, 8)\n"
     ]
    }
   ],
   "source": [
    "label_encoder = LabelEncoder()\n",
    "label_encoder.fit(train_val)\n",
    "print('check label: ', label_encoder.classes_)\n",
    "print('\\n## Before convert')\n",
    "print('y_train[0:4]:\\n', train_val[0:4])\n",
    "print('\\ny_train.shape: ', train_val.shape)\n",
    "print('y_test.shape: ', train_val.shape)\n",
    "\n",
    "def label_encode(le, labels):\n",
    "    enc = le.transform(labels)\n",
    "    return keras.utils.to_categorical(enc)\n",
    "\n",
    "def label_decode(le, one_hot_label):\n",
    "    dec = np.argmax(one_hot_label, axis=1)\n",
    "    return le.inverse_transform(dec)\n",
    "\n",
    "train_val = label_encode(label_encoder, train_val)\n",
    "\n",
    "\n",
    "print('\\n\\n## After convert')\n",
    "print('y_train[0:4]:\\n', train_val[0:4])\n",
    "print('\\ny_train.shape: ', train_val.shape)\n",
    "print('y_test.shape: ', train_val.shape)\n"
   ]
  },
  {
   "cell_type": "markdown",
   "metadata": {},
   "source": [
    "Split train data into X_train and X_test"
   ]
  },
  {
   "cell_type": "code",
   "execution_count": 77,
   "metadata": {},
   "outputs": [],
   "source": [
    "X_train, X_test, y_train, y_test = train_test_split(\n",
    "    train_data_TFIDF, train_val, test_size=0.2, random_state=42)"
   ]
  },
  {
   "cell_type": "code",
   "execution_count": 78,
   "metadata": {},
   "outputs": [
    {
     "name": "stdout",
     "output_type": "stream",
     "text": [
      "X_train.shape:  (1164450, 30000)\n",
      "y_train.shape:  (1164450, 8)\n",
      "X_test.shape:  (291113, 30000)\n",
      "y_test.shape:  (291113, 8)\n"
     ]
    }
   ],
   "source": [
    "## take a look at data dimension\n",
    "print('X_train.shape: ', X_train.shape)\n",
    "print('y_train.shape: ', y_train.shape)\n",
    "print('X_test.shape: ', X_test.shape)\n",
    "print('y_test.shape: ', y_test.shape)"
   ]
  },
  {
   "cell_type": "markdown",
   "metadata": {},
   "source": [
    "## 3. Build Model"
   ]
  },
  {
   "cell_type": "markdown",
   "metadata": {},
   "source": [
    "## 3.1 I/O check"
   ]
  },
  {
   "cell_type": "code",
   "execution_count": 79,
   "metadata": {},
   "outputs": [
    {
     "name": "stdout",
     "output_type": "stream",
     "text": [
      "input_shape:  30000\n",
      "output_shape:  8\n"
     ]
    }
   ],
   "source": [
    "# I/O check\n",
    "input_shape = X_train.shape[1]\n",
    "print('input_shape: ', input_shape)\n",
    "\n",
    "output_shape = len(label_encoder.classes_)\n",
    "print('output_shape: ', output_shape)"
   ]
  },
  {
   "cell_type": "markdown",
   "metadata": {},
   "source": [
    "Using Neural Network with layer like in the homework"
   ]
  },
  {
   "cell_type": "code",
   "execution_count": 80,
   "metadata": {},
   "outputs": [
    {
     "data": {
      "text/html": [
       "<pre style=\"white-space:pre;overflow-x:auto;line-height:normal;font-family:Menlo,'DejaVu Sans Mono',consolas,'Courier New',monospace\"><span style=\"font-weight: bold\">Model: \"functional_4\"</span>\n",
       "</pre>\n"
      ],
      "text/plain": [
       "\u001b[1mModel: \"functional_4\"\u001b[0m\n"
      ]
     },
     "metadata": {},
     "output_type": "display_data"
    },
    {
     "data": {
      "text/html": [
       "<pre style=\"white-space:pre;overflow-x:auto;line-height:normal;font-family:Menlo,'DejaVu Sans Mono',consolas,'Courier New',monospace\">┏━━━━━━━━━━━━━━━━━━━━━━━━━━━━━━━━━┳━━━━━━━━━━━━━━━━━━━━━━━━┳━━━━━━━━━━━━━━━┓\n",
       "┃<span style=\"font-weight: bold\"> Layer (type)                    </span>┃<span style=\"font-weight: bold\"> Output Shape           </span>┃<span style=\"font-weight: bold\">       Param # </span>┃\n",
       "┡━━━━━━━━━━━━━━━━━━━━━━━━━━━━━━━━━╇━━━━━━━━━━━━━━━━━━━━━━━━╇━━━━━━━━━━━━━━━┩\n",
       "│ input_layer_4 (<span style=\"color: #0087ff; text-decoration-color: #0087ff\">InputLayer</span>)      │ (<span style=\"color: #00d7ff; text-decoration-color: #00d7ff\">None</span>, <span style=\"color: #00af00; text-decoration-color: #00af00\">30000</span>)          │             <span style=\"color: #00af00; text-decoration-color: #00af00\">0</span> │\n",
       "├─────────────────────────────────┼────────────────────────┼───────────────┤\n",
       "│ dense_16 (<span style=\"color: #0087ff; text-decoration-color: #0087ff\">Dense</span>)                │ (<span style=\"color: #00d7ff; text-decoration-color: #00d7ff\">None</span>, <span style=\"color: #00af00; text-decoration-color: #00af00\">128</span>)            │     <span style=\"color: #00af00; text-decoration-color: #00af00\">3,840,128</span> │\n",
       "├─────────────────────────────────┼────────────────────────┼───────────────┤\n",
       "│ re_lu_12 (<span style=\"color: #0087ff; text-decoration-color: #0087ff\">ReLU</span>)                 │ (<span style=\"color: #00d7ff; text-decoration-color: #00d7ff\">None</span>, <span style=\"color: #00af00; text-decoration-color: #00af00\">128</span>)            │             <span style=\"color: #00af00; text-decoration-color: #00af00\">0</span> │\n",
       "├─────────────────────────────────┼────────────────────────┼───────────────┤\n",
       "│ dense_17 (<span style=\"color: #0087ff; text-decoration-color: #0087ff\">Dense</span>)                │ (<span style=\"color: #00d7ff; text-decoration-color: #00d7ff\">None</span>, <span style=\"color: #00af00; text-decoration-color: #00af00\">128</span>)            │        <span style=\"color: #00af00; text-decoration-color: #00af00\">16,512</span> │\n",
       "├─────────────────────────────────┼────────────────────────┼───────────────┤\n",
       "│ re_lu_13 (<span style=\"color: #0087ff; text-decoration-color: #0087ff\">ReLU</span>)                 │ (<span style=\"color: #00d7ff; text-decoration-color: #00d7ff\">None</span>, <span style=\"color: #00af00; text-decoration-color: #00af00\">128</span>)            │             <span style=\"color: #00af00; text-decoration-color: #00af00\">0</span> │\n",
       "├─────────────────────────────────┼────────────────────────┼───────────────┤\n",
       "│ dense_18 (<span style=\"color: #0087ff; text-decoration-color: #0087ff\">Dense</span>)                │ (<span style=\"color: #00d7ff; text-decoration-color: #00d7ff\">None</span>, <span style=\"color: #00af00; text-decoration-color: #00af00\">128</span>)            │        <span style=\"color: #00af00; text-decoration-color: #00af00\">16,512</span> │\n",
       "├─────────────────────────────────┼────────────────────────┼───────────────┤\n",
       "│ re_lu_14 (<span style=\"color: #0087ff; text-decoration-color: #0087ff\">ReLU</span>)                 │ (<span style=\"color: #00d7ff; text-decoration-color: #00d7ff\">None</span>, <span style=\"color: #00af00; text-decoration-color: #00af00\">128</span>)            │             <span style=\"color: #00af00; text-decoration-color: #00af00\">0</span> │\n",
       "├─────────────────────────────────┼────────────────────────┼───────────────┤\n",
       "│ dense_19 (<span style=\"color: #0087ff; text-decoration-color: #0087ff\">Dense</span>)                │ (<span style=\"color: #00d7ff; text-decoration-color: #00d7ff\">None</span>, <span style=\"color: #00af00; text-decoration-color: #00af00\">8</span>)              │         <span style=\"color: #00af00; text-decoration-color: #00af00\">1,032</span> │\n",
       "├─────────────────────────────────┼────────────────────────┼───────────────┤\n",
       "│ softmax_4 (<span style=\"color: #0087ff; text-decoration-color: #0087ff\">Softmax</span>)             │ (<span style=\"color: #00d7ff; text-decoration-color: #00d7ff\">None</span>, <span style=\"color: #00af00; text-decoration-color: #00af00\">8</span>)              │             <span style=\"color: #00af00; text-decoration-color: #00af00\">0</span> │\n",
       "└─────────────────────────────────┴────────────────────────┴───────────────┘\n",
       "</pre>\n"
      ],
      "text/plain": [
       "┏━━━━━━━━━━━━━━━━━━━━━━━━━━━━━━━━━┳━━━━━━━━━━━━━━━━━━━━━━━━┳━━━━━━━━━━━━━━━┓\n",
       "┃\u001b[1m \u001b[0m\u001b[1mLayer (type)                   \u001b[0m\u001b[1m \u001b[0m┃\u001b[1m \u001b[0m\u001b[1mOutput Shape          \u001b[0m\u001b[1m \u001b[0m┃\u001b[1m \u001b[0m\u001b[1m      Param #\u001b[0m\u001b[1m \u001b[0m┃\n",
       "┡━━━━━━━━━━━━━━━━━━━━━━━━━━━━━━━━━╇━━━━━━━━━━━━━━━━━━━━━━━━╇━━━━━━━━━━━━━━━┩\n",
       "│ input_layer_4 (\u001b[38;5;33mInputLayer\u001b[0m)      │ (\u001b[38;5;45mNone\u001b[0m, \u001b[38;5;34m30000\u001b[0m)          │             \u001b[38;5;34m0\u001b[0m │\n",
       "├─────────────────────────────────┼────────────────────────┼───────────────┤\n",
       "│ dense_16 (\u001b[38;5;33mDense\u001b[0m)                │ (\u001b[38;5;45mNone\u001b[0m, \u001b[38;5;34m128\u001b[0m)            │     \u001b[38;5;34m3,840,128\u001b[0m │\n",
       "├─────────────────────────────────┼────────────────────────┼───────────────┤\n",
       "│ re_lu_12 (\u001b[38;5;33mReLU\u001b[0m)                 │ (\u001b[38;5;45mNone\u001b[0m, \u001b[38;5;34m128\u001b[0m)            │             \u001b[38;5;34m0\u001b[0m │\n",
       "├─────────────────────────────────┼────────────────────────┼───────────────┤\n",
       "│ dense_17 (\u001b[38;5;33mDense\u001b[0m)                │ (\u001b[38;5;45mNone\u001b[0m, \u001b[38;5;34m128\u001b[0m)            │        \u001b[38;5;34m16,512\u001b[0m │\n",
       "├─────────────────────────────────┼────────────────────────┼───────────────┤\n",
       "│ re_lu_13 (\u001b[38;5;33mReLU\u001b[0m)                 │ (\u001b[38;5;45mNone\u001b[0m, \u001b[38;5;34m128\u001b[0m)            │             \u001b[38;5;34m0\u001b[0m │\n",
       "├─────────────────────────────────┼────────────────────────┼───────────────┤\n",
       "│ dense_18 (\u001b[38;5;33mDense\u001b[0m)                │ (\u001b[38;5;45mNone\u001b[0m, \u001b[38;5;34m128\u001b[0m)            │        \u001b[38;5;34m16,512\u001b[0m │\n",
       "├─────────────────────────────────┼────────────────────────┼───────────────┤\n",
       "│ re_lu_14 (\u001b[38;5;33mReLU\u001b[0m)                 │ (\u001b[38;5;45mNone\u001b[0m, \u001b[38;5;34m128\u001b[0m)            │             \u001b[38;5;34m0\u001b[0m │\n",
       "├─────────────────────────────────┼────────────────────────┼───────────────┤\n",
       "│ dense_19 (\u001b[38;5;33mDense\u001b[0m)                │ (\u001b[38;5;45mNone\u001b[0m, \u001b[38;5;34m8\u001b[0m)              │         \u001b[38;5;34m1,032\u001b[0m │\n",
       "├─────────────────────────────────┼────────────────────────┼───────────────┤\n",
       "│ softmax_4 (\u001b[38;5;33mSoftmax\u001b[0m)             │ (\u001b[38;5;45mNone\u001b[0m, \u001b[38;5;34m8\u001b[0m)              │             \u001b[38;5;34m0\u001b[0m │\n",
       "└─────────────────────────────────┴────────────────────────┴───────────────┘\n"
      ]
     },
     "metadata": {},
     "output_type": "display_data"
    },
    {
     "data": {
      "text/html": [
       "<pre style=\"white-space:pre;overflow-x:auto;line-height:normal;font-family:Menlo,'DejaVu Sans Mono',consolas,'Courier New',monospace\"><span style=\"font-weight: bold\"> Total params: </span><span style=\"color: #00af00; text-decoration-color: #00af00\">3,874,184</span> (14.78 MB)\n",
       "</pre>\n"
      ],
      "text/plain": [
       "\u001b[1m Total params: \u001b[0m\u001b[38;5;34m3,874,184\u001b[0m (14.78 MB)\n"
      ]
     },
     "metadata": {},
     "output_type": "display_data"
    },
    {
     "data": {
      "text/html": [
       "<pre style=\"white-space:pre;overflow-x:auto;line-height:normal;font-family:Menlo,'DejaVu Sans Mono',consolas,'Courier New',monospace\"><span style=\"font-weight: bold\"> Trainable params: </span><span style=\"color: #00af00; text-decoration-color: #00af00\">3,874,184</span> (14.78 MB)\n",
       "</pre>\n"
      ],
      "text/plain": [
       "\u001b[1m Trainable params: \u001b[0m\u001b[38;5;34m3,874,184\u001b[0m (14.78 MB)\n"
      ]
     },
     "metadata": {},
     "output_type": "display_data"
    },
    {
     "data": {
      "text/html": [
       "<pre style=\"white-space:pre;overflow-x:auto;line-height:normal;font-family:Menlo,'DejaVu Sans Mono',consolas,'Courier New',monospace\"><span style=\"font-weight: bold\"> Non-trainable params: </span><span style=\"color: #00af00; text-decoration-color: #00af00\">0</span> (0.00 B)\n",
       "</pre>\n"
      ],
      "text/plain": [
       "\u001b[1m Non-trainable params: \u001b[0m\u001b[38;5;34m0\u001b[0m (0.00 B)\n"
      ]
     },
     "metadata": {},
     "output_type": "display_data"
    }
   ],
   "source": [
    "# input layer\n",
    "from tensorflow.keras.layers import Input, Dense, Dropout, ReLU, Softmax\n",
    "model_input = Input(shape=(input_shape, ))  # input shape\n",
    "X = model_input\n",
    "\n",
    "# 1st hidden layer\n",
    "X_W1 = Dense(units=128)(X)  # 128\n",
    "H1 = ReLU()(X_W1)\n",
    "# 2nd hidden layer\n",
    "H1_W2 = Dense(units=128)(H1)  # 128\n",
    "H2 = ReLU()(H1_W2)\n",
    "# output layer\n",
    "\n",
    "H2_W3 = Dense(units=128)(H2)  # 128\n",
    "H3 = ReLU()(H2_W3)\n",
    "\n",
    "H3_W4 = Dense(units=output_shape)(H3)  # 8\n",
    "H4 = Softmax()(H3_W4)\n",
    "\n",
    "model_output = H4\n",
    "\n",
    "# create model\n",
    "model = Model(inputs=[model_input], outputs=[model_output])\n",
    "\n",
    "# loss function & optimizer\n",
    "model.compile(optimizer='adam',\n",
    "              loss='categorical_crossentropy',\n",
    "              metrics=['accuracy'])\n",
    "\n",
    "# show model construction\n",
    "model.summary()"
   ]
  },
  {
   "cell_type": "markdown",
   "metadata": {},
   "source": [
    "## 3.2 Train the model"
   ]
  },
  {
   "cell_type": "markdown",
   "metadata": {},
   "source": [
    "Neural Network"
   ]
  },
  {
   "cell_type": "code",
   "execution_count": null,
   "metadata": {},
   "outputs": [
    {
     "name": "stdout",
     "output_type": "stream",
     "text": [
      "Epoch 1/2\n"
     ]
    },
    {
     "name": "stderr",
     "output_type": "stream",
     "text": [
      "c:\\Users\\Humam\\AppData\\Local\\Programs\\Python\\Python39\\lib\\site-packages\\keras\\src\\models\\functional.py:225: UserWarning: The structure of `inputs` doesn't match the expected structure: ['keras_tensor_36']. Received: the structure of inputs=*\n",
      "  warnings.warn(\n"
     ]
    },
    {
     "name": "stdout",
     "output_type": "stream",
     "text": [
      "\u001b[1m2843/2843\u001b[0m \u001b[32m━━━━━━━━━━━━━━━━━━━━\u001b[0m\u001b[37m\u001b[0m \u001b[1m145s\u001b[0m 51ms/step - accuracy: 0.5523 - loss: 1.2453\n",
      "Epoch 2/2\n",
      "\u001b[1m2843/2843\u001b[0m \u001b[32m━━━━━━━━━━━━━━━━━━━━\u001b[0m\u001b[37m\u001b[0m \u001b[1m136s\u001b[0m 48ms/step - accuracy: 0.6457 - loss: 0.9783\n",
      "training finish\n"
     ]
    }
   ],
   "source": [
    "csv_logger = CSVLogger('logs/training_log.csv')\n",
    "\n",
    "# training setting\n",
    "epochs = 2\n",
    "batch_size = 512\n",
    "\n",
    "# training! (with split)\n",
    "history = model.fit(X_train, y_train, epochs=epochs, batch_size=batch_size, callbacks=[csv_logger],validation_data = (X_test, y_test))\n",
    "\n",
    "# training (without split)\n",
    "#history = model.fit(train_data_TFIDF, train_val, epochs = epochs, batch_size = batch_size)\n",
    "print('training finish')"
   ]
  },
  {
   "cell_type": "markdown",
   "metadata": {},
   "source": [
    "## 3.3 Predict on testing data & check accuracy"
   ]
  },
  {
   "cell_type": "code",
   "execution_count": 82,
   "metadata": {},
   "outputs": [
    {
     "name": "stdout",
     "output_type": "stream",
     "text": [
      "\u001b[1m2275/2275\u001b[0m \u001b[32m━━━━━━━━━━━━━━━━━━━━\u001b[0m\u001b[37m\u001b[0m \u001b[1m14s\u001b[0m 6ms/step\n",
      "testing accuracy: 0.71\n"
     ]
    }
   ],
   "source": [
    "pred_result = model.predict(X_test, batch_size=128)\n",
    "pred_result = label_decode(label_encoder, pred_result)\n",
    "print('testing accuracy: {}'.format(round(accuracy_score(label_decode(label_encoder, y_test), pred_result), 2)))"
   ]
  },
  {
   "cell_type": "code",
   "execution_count": 83,
   "metadata": {},
   "outputs": [
    {
     "data": {
      "image/png": "[encoded data removed]",
      "text/plain": [
       "<Figure size 1200x500 with 2 Axes>"
      ]
     },
     "metadata": {},
     "output_type": "display_data"
    }
   ],
   "source": [
    "training_log = pd.DataFrame()\n",
    "training_log = pd.read_csv(\"logs/training_log.csv\")\n",
    "plt.figure(figsize=(12, 5))\n",
    "# figure for accuracies\n",
    "plt.subplot(1,2,1)\n",
    "plt.plot(training_log['accuracy'], label = 'Train accuracy')\n",
    "plt.plot(training_log['val_accuracy'], label = 'Val accuracy')\n",
    "plt.title('Training Accuracy per epoch')\n",
    "plt.xlabel('Epochs')\n",
    "plt.ylabel('Accuracy')\n",
    "plt.legend()\n",
    "#figure for loss\n",
    "plt.subplot(1,2,2)\n",
    "plt.plot(training_log['loss'], label = 'Train loss')\n",
    "plt.plot(training_log['val_loss'], label = 'Val loss')\n",
    "plt.title('Training Loss per epoch')\n",
    "plt.xlabel('Epochs')\n",
    "plt.ylabel('Loss')\n",
    "plt.legend()\n",
    "plt.show()"
   ]
  },
  {
   "cell_type": "code",
   "execution_count": 84,
   "metadata": {},
   "outputs": [
    {
     "name": "stdout",
     "output_type": "stream",
     "text": [
      "              precision    recall  f1-score   support\n",
      "\n",
      "       anger       0.78      0.44      0.56      7964\n",
      "anticipation       0.76      0.75      0.76     49725\n",
      "     disgust       0.63      0.62      0.62     27892\n",
      "        fear       0.84      0.59      0.69     12955\n",
      "         joy       0.71      0.86      0.78    103089\n",
      "     sadness       0.64      0.71      0.67     38835\n",
      "    surprise       0.81      0.39      0.53      9750\n",
      "       trust       0.76      0.52      0.61     40903\n",
      "\n",
      "    accuracy                           0.71    291113\n",
      "   macro avg       0.74      0.61      0.65    291113\n",
      "weighted avg       0.72      0.71      0.71    291113\n",
      "\n"
     ]
    }
   ],
   "source": [
    "print(classification_report(y_true=label_decode(label_encoder, y_test), y_pred= pred_result))"
   ]
  },
  {
   "cell_type": "code",
   "execution_count": 85,
   "metadata": {},
   "outputs": [
    {
     "name": "stdout",
     "output_type": "stream",
     "text": [
      "\u001b[1m3219/3219\u001b[0m \u001b[32m━━━━━━━━━━━━━━━━━━━━\u001b[0m\u001b[37m\u001b[0m \u001b[1m20s\u001b[0m 6ms/step\n"
     ]
    }
   ],
   "source": [
    "pred_result = model.predict(test_data_TFIDF, batch_size=128)\n",
    "pred_result = label_decode(label_encoder, pred_result)\n",
    "\n",
    "submission = test_df.drop(columns = ['score', 'crawldate', 'text', 'hashtags']) # drop columns that are not in submission file\n",
    "submission['emotion'] = pred_result # store the result in emotion column\n",
    "submission = submission.reset_index() # reset index for tweets_id\n",
    "submission.rename(columns = {'tweet_id':'id'}, inplace = True) # change the index name to id\n",
    "submission.to_csv('submission.csv', index = False) # save csv file"
   ]
  }
 ],
 "metadata": {
  "kernelspec": {
   "display_name": "Python 3",
   "language": "python",
   "name": "python3"
  },
  "language_info": {
   "codemirror_mode": {
    "name": "ipython",
    "version": 3
   },
   "file_extension": ".py",
   "mimetype": "text/x-python",
   "name": "python",
   "nbconvert_exporter": "python",
   "pygments_lexer": "ipython3",
   "version": "3.9.6"
  },
  "varInspector": {
   "cols": {
    "lenName": 16,
    "lenType": 16,
    "lenVar": 40
   },
   "kernels_config": {
    "python": {
     "delete_cmd_postfix": "",
     "delete_cmd_prefix": "del ",
     "library": "var_list.py",
     "varRefreshCmd": "print(var_dic_list())"
    },
    "r": {
     "delete_cmd_postfix": ") ",
     "delete_cmd_prefix": "rm(",
     "library": "var_list.r",
     "varRefreshCmd": "cat(var_dic_list()) "
    }
   },
   "types_to_exclude": [
    "module",
    "function",
    "builtin_function_or_method",
    "instance",
    "_Feature"
   ],
   "window_display": false
  }
 },
 "nbformat": 4,
 "nbformat_minor": 2
}
